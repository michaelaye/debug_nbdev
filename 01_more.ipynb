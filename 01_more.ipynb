{
 "cells": [
  {
   "cell_type": "code",
   "execution_count": null,
   "id": "af5aa7f1-37f9-4d41-a6d7-4d2c1a7074a6",
   "metadata": {},
   "outputs": [],
   "source": [
    "#| default_exp more"
   ]
  },
  {
   "cell_type": "markdown",
   "id": "f8472169-34d5-4a0c-b4c8-08173ec5dde2",
   "metadata": {},
   "source": [
    "# more stuff\n",
    "> really more\n",
    "\n",
    "- skip_showdoc: true\n",
    "- skip_exec: true"
   ]
  },
  {
   "cell_type": "code",
   "execution_count": null,
   "id": "8cb0133c-1f27-44a1-a4bd-226abac15e45",
   "metadata": {},
   "outputs": [],
   "source": [
    "#| export\n",
    "print('hello')"
   ]
  }
 ],
 "metadata": {
  "kernelspec": {
   "display_name": "python3",
   "language": "python",
   "name": "python3"
  }
 },
 "nbformat": 4,
 "nbformat_minor": 5
}
